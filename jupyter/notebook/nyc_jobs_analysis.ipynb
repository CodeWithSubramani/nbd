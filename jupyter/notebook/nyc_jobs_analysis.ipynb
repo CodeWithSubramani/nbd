{
 "cells": [
  {
   "cell_type": "code",
   "execution_count": null,
   "id": "a4968a09",
   "metadata": {},
   "outputs": [],
   "source": [
    "import os\n",
    "import sys\n",
    "\n",
    "# Set Spark environment variables\n",
    "os.environ['PYSPARK_PYTHON'] = sys.executable\n",
    "os.environ['PYSPARK_DRIVER_PYTHON'] = sys.executable\n",
    "\n",
    "# Initialize findspark\n",
    "import findspark\n",
    "findspark.init()\n",
    "\n",
    "from pyspark.sql import SparkSession, DataFrame\n",
    "from pyspark.sql.functions import *\n",
    "from pyspark.sql.types import *\n",
    "import matplotlib.pyplot as plt\n",
    "import seaborn as sns\n",
    "import pandas as pd\n",
    "\n",
    "# Initialize Spark Session\n",
    "spark = SparkSession.builder \\\n",
    "    .appName(\"nyc-jobs-analysis\") \\\n",
    "    .config(\"spark.executor.memory\", \"1g\") \\\n",
    "    .config(\"spark.driver.memory\", \"1g\") \\\n",
    "    .getOrCreate()"
   ]
  },
  {
   "cell_type": "markdown",
   "id": "9be663f0",
   "metadata": {},
   "source": [
    "## Data Loading and Initial Exploration"
   ]
  },
  {
   "cell_type": "code",
   "execution_count": null,
   "id": "ec5c9661",
   "metadata": {},
   "outputs": [],
   "source": [
    "# Read the dataset\n",
    "df = spark.read.csv(\"/dataset/nyc-jobs.csv\", header=True, inferSchema=True)\n",
    "\n",
    "# Convert numeric columns\n",
    "df = df.withColumn(\"# Of Positions\", col(\"# Of Positions\").cast(\"integer\")) \\\n",
    "       .withColumn(\"Salary Range From\", col(\"Salary Range From\").cast(\"double\")) \\\n",
    "       .withColumn(\"Salary Range To\", col(\"Salary Range To\").cast(\"double\")) \\\n",
    "       .withColumn(\"Posting Date\", to_timestamp(col(\"Posting Date\"), \"yyyy-MM-dd'T'HH:mm:ss.SSS\"))\n",
    "\n",
    "# Display basic statistics\n",
    "print(\"Dataset Overview:\")\n",
    "print(f\"Total number of records: {df.count()}\")\n",
    "print(f\"Number of columns: {len(df.columns)}\")\n",
    "print(\"\\nColumn Types:\")\n",
    "df.printSchema()\n",
    "\n",
    "# Show sample data\n",
    "df.show(5, truncate=False)"
   ]
  },
  {
   "cell_type": "markdown",
   "id": "87c1ef2b",
   "metadata": {},
   "source": [
    "## Key Analysis Questions"
   ]
  },
  {
   "cell_type": "markdown",
   "id": "fc053e98",
   "metadata": {},
   "source": [
    "### 1. Highest Salary Job Posting per Agency"
   ]
  },
  {
   "cell_type": "code",
   "execution_count": null,
   "id": "b8d3a8c2",
   "metadata": {},
   "outputs": [],
   "source": [
    "# Group by Agency and Business Title to find highest salary jobs\n",
    "highest_salary_jobs = df.groupBy(\"Agency\", \"Business Title\") \\\n",
    "                       .agg(\n",
    "                           max(\"Salary Range To\").alias(\"Highest Salary\"),\n",
    "                           first(\"Posting Date\").alias(\"Posting Date\"),\n",
    "                           first(\"Job Description\").alias(\"Job Description\")\n",
    "                       ) \\\n",
    "                       .orderBy(col(\"Highest Salary\").desc())\n",
    "\n",
    "print(\"Top 10 Highest Paying Jobs by Agency:\")\n",
    "highest_salary_jobs.show(10, truncate=False)"
   ]
  },
  {
   "cell_type": "markdown",
   "id": "bbcaaaed",
   "metadata": {},
   "source": [
    "### 2. Average Salary per Agency (Last 2 Years)"
   ]
  },
  {
   "cell_type": "code",
   "execution_count": null,
   "id": "b328107b",
   "metadata": {},
   "outputs": [],
   "source": [
    "# Calculate average salaries for the last 2 years\n",
    "# First, ensure Posting Date is in proper date format\n",
    "df = df.withColumn(\"Posting Date\", to_timestamp(col(\"Posting Date\"), \"yyyy-MM-dd'T'HH:mm:ss.SSS\"))\n",
    "\n",
    "# Get the date two years ago from the most recent posting\n",
    "max_date = df.select(max(\"Posting Date\")).collect()[0][0]\n",
    "two_years_ago = df.select(add_months(lit(max_date), -24)).collect()[0][0]  # Subtract 24 months from max date\n",
    "\n",
    "# Filter and calculate averages\n",
    "recent_salaries = df.filter(col(\"Posting Date\") >= two_years_ago) \\\n",
    "                   .groupBy(\"Agency\") \\\n",
    "                   .agg(\n",
    "                       avg(\"Salary Range From\").alias(\"Avg Salary From\"),\n",
    "                       avg(\"Salary Range To\").alias(\"Avg Salary To\"),\n",
    "                       count(lit(1)).alias(\"Number of Postings\")\n",
    "                   ) \\\n",
    "                   .orderBy(col(\"Avg Salary To\").desc())\n",
    "\n",
    "print(\"Average Salary per Agency (Last 2 Years):\")\n",
    "print(f\"Analysis period: {two_years_ago} to {max_date}\")\n",
    "recent_salaries.show(truncate=False)"
   ]
  },
  {
   "cell_type": "markdown",
   "id": "2421e460",
   "metadata": {},
   "source": [
    "### 3. Highest Paid Skills Analysis"
   ]
  },
  {
   "cell_type": "code",
   "execution_count": null,
   "id": "7a24e776",
   "metadata": {},
   "outputs": [],
   "source": [
    "# Function to extract skills and their associated salaries\n",
    "def extract_skills(row):\n",
    "    skills = str(row['Preferred Skills']).lower().split(',')\n",
    "    return [(skill.strip(), float(row['Salary Range To'])) for skill in skills]\n",
    "\n",
    "# Process skills and calculate average salaries\n",
    "skills_rdd = df.select('Preferred Skills', 'Salary Range To').rdd\n",
    "skills_salary = skills_rdd.flatMap(extract_skills) \\\n",
    "                         .map(lambda x: (x[0], (x[1], 1))) \\\n",
    "                         .reduceByKey(lambda a, b: (a[0] + b[0], a[1] + b[1])) \\\n",
    "                         .map(lambda x: (x[0], x[1][0] / x[1][1], x[1][1])) \\\n",
    "                         .filter(lambda x: x[2] >= 5) \\\n",
    "                         .sortBy(lambda x: x[1], ascending=False)\n",
    "\n",
    "# Display results\n",
    "print(\"Top 20 Highest Paid Skills:\")\n",
    "print(\"Skill | Average Salary | Number of Appearances\")\n",
    "print(\"-\" * 50)\n",
    "for skill, avg_salary, count in skills_salary.take(20):\n",
    "    print(f\"{skill:30} | ${avg_salary:,.2f} | {count}\")"
   ]
  },
  {
   "cell_type": "markdown",
   "id": "d8cd3493",
   "metadata": {},
   "source": [
    "## Data Visualization"
   ]
  },
  {
   "cell_type": "code",
   "execution_count": null,
   "id": "7a9bd711",
   "metadata": {},
   "outputs": [],
   "source": [
    "# Convert Spark DataFrames to Pandas for visualization\n",
    "recent_salaries_pd = recent_salaries.toPandas()\n",
    "\n",
    "# Set up the visualization style\n",
    "plt.style.use('seaborn')\n",
    "\n",
    "# 1. Average Salary by Agency (Last 2 Years)\n",
    "plt.figure(figsize=(12, 8))\n",
    "recent_salaries_pd = recent_salaries_pd.head(15)  # Top 15 agencies\n",
    "recent_salaries_pd.plot(kind='barh', x='Agency', y=['Avg Salary From', 'Avg Salary To'])\n",
    "plt.title('Average Salary Range by Agency (Last 2 Years)')\n",
    "plt.xlabel('Average Salary ($)')\n",
    "plt.tight_layout()\n",
    "plt.show()\n",
    "\n",
    "# 2. Number of Postings vs Average Salary\n",
    "plt.figure(figsize=(10, 6))\n",
    "plt.scatter(recent_salaries_pd['Number of Postings'], \n",
    "            recent_salaries_pd['Avg Salary To'],\n",
    "            alpha=0.6)\n",
    "plt.title('Number of Postings vs Average Salary (Last 2 Years)')\n",
    "plt.xlabel('Number of Postings')\n",
    "plt.ylabel('Average Salary ($)')\n",
    "plt.grid(True)\n",
    "plt.tight_layout()\n",
    "plt.show()"
   ]
  }
 ],
 "metadata": {},
 "nbformat": 4,
 "nbformat_minor": 5
}
